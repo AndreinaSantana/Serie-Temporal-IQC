{
  "nbformat": 4,
  "nbformat_minor": 0,
  "metadata": {
    "colab": {
      "name": "Modelo Predicción Red Neuronal con una VariableCCP.ipynb",
      "private_outputs": true,
      "provenance": []
    },
    "kernelspec": {
      "name": "python3",
      "display_name": "Python 3"
    },
    "language_info": {
      "name": "python"
    }
  },
  "cells": [
    {
      "cell_type": "code",
      "metadata": {
        "id": "pzoGD8ed0nVj"
      },
      "source": [
        "from google.colab import files\n",
        "uploaded = files.upload()"
      ],
      "execution_count": null,
      "outputs": []
    },
    {
      "cell_type": "code",
      "metadata": {
        "id": "eRg1uU8r11BJ"
      },
      "source": [
        "import pandas as pd\n",
        "import numpy as np\n",
        "import math\n",
        "import matplotlib.pylab as plt\n",
        "%matplotlib inline\n",
        "plt.rcParams['figure.figsize'] = (16, 9)\n",
        "plt.style.use('fast')\n",
        "\n",
        "from keras.models import Sequential\n",
        "from keras.layers import Dense,Activation,Flatten\n",
        "from sklearn.preprocessing import MinMaxScaler"
      ],
      "execution_count": null,
      "outputs": []
    },
    {
      "cell_type": "code",
      "metadata": {
        "id": "pCzXS-Zn12kd"
      },
      "source": [
        "df = pd.read_csv('DATACOPPM.csv',  parse_dates=[0], header=None,index_col=0, squeeze=True,names=['fecha','unidades'])\n",
        "df.head()"
      ],
      "execution_count": null,
      "outputs": []
    },
    {
      "cell_type": "code",
      "metadata": {
        "id": "VjrC9zJc1-T-"
      },
      "source": [
        "df.describe()"
      ],
      "execution_count": null,
      "outputs": []
    },
    {
      "cell_type": "code",
      "metadata": {
        "id": "B23xtNye3Vrq"
      },
      "source": [
        "print(df.index.min())\n",
        "print(df.index.max())"
      ],
      "execution_count": null,
      "outputs": []
    },
    {
      "cell_type": "code",
      "metadata": {
        "id": "q-YLXVgB3kLa"
      },
      "source": [
        "print(len(df['2020-08']))\n",
        "print(len(df['2020-09']))\n",
        "print(len(df['2020-10']))\n",
        "print(len(df['2020-11']))\n",
        "print(len(df['2020-12']))"
      ],
      "execution_count": null,
      "outputs": []
    },
    {
      "cell_type": "code",
      "metadata": {
        "id": "2akO8UYD3x6K"
      },
      "source": [
        "meses =df.resample('M').mean()\n",
        "meses"
      ],
      "execution_count": null,
      "outputs": []
    },
    {
      "cell_type": "code",
      "metadata": {
        "id": "9SbrlqsB5fpf"
      },
      "source": [
        "plt.plot(meses['2020'].values)"
      ],
      "execution_count": null,
      "outputs": []
    },
    {
      "cell_type": "code",
      "metadata": {
        "id": "NxWHwj9yKamG"
      },
      "source": [
        "iqc = df['2020-08-01':'2020-08-20']\n",
        "plt.plot(iqc.values)\n",
        "iqc1 = df['2020-09-01':'2020-09-20']\n",
        "plt.plot(iqc1.values)\n",
        "iqc2 = df['2020-10-01':'2020-10-20']\n",
        "plt.plot(iqc2.values)\n",
        "iqc3 = df['2020-11-01':'2020-11-20']\n",
        "plt.plot(iqc3.values)\n",
        "iqc4 = df['2020-12-01':'2020-12-20']\n",
        "plt.plot(iqc4.values)"
      ],
      "execution_count": null,
      "outputs": []
    },
    {
      "cell_type": "code",
      "metadata": {
        "id": "Bu_AiPHLOHFH"
      },
      "source": [
        "iqc = df['2020-08-01':'2020-08-20']\n",
        "plt.plot(iqc.values)\n",
        "iqc1 = df['2020-09-01':'2020-09-20']\n",
        "plt.plot(iqc1.values)"
      ],
      "execution_count": null,
      "outputs": []
    },
    {
      "cell_type": "code",
      "metadata": {
        "id": "PjIWT1F5OQj7"
      },
      "source": [
        "iqc = df['2020-08-01':'2020-08-10']\n",
        "plt.plot(iqc.values)\n",
        "iqc1 = df['2020-09-01':'2020-09-10']\n",
        "plt.plot(iqc1.values)\n",
        "iqc2 = df['2020-10-01':'2020-10-10']\n",
        "plt.plot(iqc2.values)\n",
        "iqc3 = df['2020-11-01':'2020-11-10']\n",
        "plt.plot(iqc3.values)\n",
        "iqc4 = df['2020-12-01':'2020-12-10']\n",
        "plt.plot(iqc4.values)"
      ],
      "execution_count": null,
      "outputs": []
    },
    {
      "cell_type": "code",
      "metadata": {
        "id": "iK0ZLGkeRyBW"
      },
      "source": [
        "PASOS=7\n",
        "\n",
        "# convert series to supervised learning\n",
        "def series_to_supervised(data, n_in=1, n_out=1, dropnan=True):\n",
        "    n_vars = 1 if type(data) is list else data.shape[1]\n",
        "    df = pd.DataFrame(data)\n",
        "    cols, names = list(), list()\n",
        "    # input sequence (t-n, ... t-1)\n",
        "    for i in range(n_in, 0, -1):\n",
        "        cols.append(df.shift(i))\n",
        "        names += [('var%d(t-%d)' % (j+1, i)) for j in range(n_vars)]\n",
        "    # forecast sequence (t, t+1, ... t+n)\n",
        "    for i in range(0, n_out):\n",
        "        cols.append(df.shift(-i))\n",
        "        if i == 0:\n",
        "            names += [('var%d(t)' % (j+1)) for j in range(n_vars)]\n",
        "        else:\n",
        "            names += [('var%d(t+%d)' % (j+1, i)) for j in range(n_vars)]\n",
        "    # put it all together\n",
        "    agg = pd.concat(cols, axis=1)\n",
        "    agg.columns = names\n",
        "    # drop rows with NaN values\n",
        "    if dropnan:\n",
        "        agg.dropna(inplace=True)\n",
        "    return agg\n",
        " \n",
        "# load dataset\n",
        "values = df.values\n",
        "# ensure all data is float\n",
        "values = values.astype('float32')\n",
        "# normalize features\n",
        "scaler = MinMaxScaler(feature_range=(-1, 1))\n",
        "values=values.reshape(-1, 1) # esto lo hacemos porque tenemos 1 sola dimension\n",
        "scaled = scaler.fit_transform(values)\n",
        "# frame as supervised learning\n",
        "reframed = series_to_supervised(scaled, PASOS, 1)\n",
        "reframed.head()"
      ],
      "execution_count": null,
      "outputs": []
    },
    {
      "cell_type": "code",
      "metadata": {
        "id": "OrEtA40ZAODt"
      },
      "source": [
        "# split into train and test sets\n",
        "values = reframed.values\n",
        "n_train_days = 153-(30+PASOS)\n",
        "train = values[:n_train_days, :]\n",
        "test = values[n_train_days:, :]\n",
        "# split into input and outputs\n",
        "x_train, y_train = train[:, :-1], train[:, -1]\n",
        "x_val, y_val = test[:, :-1], test[:, -1]\n",
        "# reshape input to be 3D [samples, timesteps, features]\n",
        "x_train = x_train.reshape((x_train.shape[0], 1, x_train.shape[1]))\n",
        "x_val = x_val.reshape((x_val.shape[0], 1, x_val.shape[1]))\n",
        "print(x_train.shape, y_train.shape, x_val.shape, y_val.shape)"
      ],
      "execution_count": null,
      "outputs": []
    },
    {
      "cell_type": "code",
      "metadata": {
        "id": "q0kQGq6WEZAV"
      },
      "source": [
        "def crear_modeloFF():\n",
        "    model = Sequential() \n",
        "    model.add(Dense(PASOS, input_shape=(1,PASOS),activation='tanh'))\n",
        "    model.add(Flatten())\n",
        "    model.add(Dense(1, activation='tanh'))\n",
        "    model.compile(loss='mean_absolute_error',optimizer='Adam',metrics=[\"mse\"])\n",
        "    model.summary()\n",
        "    return model"
      ],
      "execution_count": null,
      "outputs": []
    },
    {
      "cell_type": "code",
      "metadata": {
        "id": "p9LpHH5iEkaZ"
      },
      "source": [
        "EPOCHS=200\n",
        "\n",
        "model = crear_modeloFF()\n",
        "\n",
        "history=model.fit(x_train,y_train,epochs=EPOCHS,validation_data=(x_val,y_val),batch_size=PASOS)"
      ],
      "execution_count": null,
      "outputs": []
    },
    {
      "cell_type": "code",
      "metadata": {
        "id": "X1C3Nys3PPHl"
      },
      "source": [
        "# Estimacion del rendimiento del modelo\n",
        "trainScore = model.evaluate(x_train, y_train, verbose=0)\n",
        "print('Resultado del entrenamiento: %.2f MSE (%.2f RMSE)' % (trainScore[1], math.sqrt(trainScore[1])))\n",
        "testScore = model.evaluate(x_val, y_val, verbose=0)\n",
        "print('Resultado del test: %.2f MSE (%.2f RMSE)' % (testScore[1], math.sqrt(testScore[1])))\n"
      ],
      "execution_count": null,
      "outputs": []
    },
    {
      "cell_type": "code",
      "metadata": {
        "id": "Alp0AGxgHeP9"
      },
      "source": [
        "results=model.predict(x_val)\n",
        "print( len(results) )\n",
        "plt.scatter(range(len(y_val)),y_val,c='g')\n",
        "plt.scatter(range(len(results)),results,c='r')\n",
        "plt.title('validate')\n",
        "plt.show()"
      ],
      "execution_count": null,
      "outputs": []
    },
    {
      "cell_type": "code",
      "metadata": {
        "id": "6817dvV-Ig3C"
      },
      "source": [
        "plt.plot(history.history['loss'])\n",
        "plt.title('loss')\n",
        "plt.plot(history.history['val_loss'])\n",
        "plt.title('validate loss')\n",
        "plt.show()"
      ],
      "execution_count": null,
      "outputs": []
    },
    {
      "cell_type": "code",
      "metadata": {
        "id": "FmvNtLk_JCAy"
      },
      "source": [
        "plt.title('Accuracy')\n",
        "plt.plot(history.history['mse'])\n",
        "plt.show()"
      ],
      "execution_count": null,
      "outputs": []
    },
    {
      "cell_type": "code",
      "metadata": {
        "id": "ACvKxF4jNbiI"
      },
      "source": [
        "compara = pd.DataFrame(np.array([y_val, [x[0] for x in results]])).transpose()\n",
        "compara.columns = ['real', 'prediccion']\n",
        "\n",
        "inverted = scaler.inverse_transform(compara.values)\n",
        "\n",
        "compara2 = pd.DataFrame(inverted)\n",
        "compara2.columns = ['real', 'prediccion']\n",
        "compara2['diferencia'] = compara2['real'] - compara2['prediccion']\n",
        "compara2.head()"
      ],
      "execution_count": null,
      "outputs": []
    },
    {
      "cell_type": "code",
      "metadata": {
        "id": "oDYkybJsNwS1"
      },
      "source": [
        "compara2.describe()"
      ],
      "execution_count": null,
      "outputs": []
    },
    {
      "cell_type": "code",
      "metadata": {
        "id": "LVkR9HCBN3Xv"
      },
      "source": [
        "compara2['real'].plot()\n",
        "compara2['prediccion'].plot()"
      ],
      "execution_count": null,
      "outputs": []
    },
    {
      "cell_type": "code",
      "metadata": {
        "id": "mAi6C72AObS-"
      },
      "source": [
        "ultimosDias = df['2020-11-16':'2020-11-30']\n",
        "ultimosDias"
      ],
      "execution_count": null,
      "outputs": []
    },
    {
      "cell_type": "code",
      "metadata": {
        "id": "0oV8LPaYPTn9"
      },
      "source": [
        "values = ultimosDias.values\n",
        "values = values.astype('float32')\n",
        "# normalize features\n",
        "values=values.reshape(-1, 1) # esto lo hacemos porque tenemos 1 sola dimension\n",
        "scaled = scaler.fit_transform(values)\n",
        "reframed = series_to_supervised(scaled, PASOS, 1)\n",
        "reframed.drop(reframed.columns[[7]], axis=1, inplace=True)\n",
        "reframed.head(7)"
      ],
      "execution_count": null,
      "outputs": []
    },
    {
      "cell_type": "code",
      "metadata": {
        "id": "UABjTAedPddv"
      },
      "source": [
        "values = reframed.values\n",
        "x_test = values[6:, :]\n",
        "x_test = x_test.reshape((x_test.shape[0], 1, x_test.shape[1]))\n",
        "print(x_test.shape)\n",
        "x_test"
      ],
      "execution_count": null,
      "outputs": []
    },
    {
      "cell_type": "code",
      "metadata": {
        "id": "CvYT-i3TPi7q"
      },
      "source": [
        "def agregarNuevoValor(x_test,nuevoValor):\n",
        "    for i in range(x_test.shape[2]-1):\n",
        "        x_test[0][0][i] = x_test[0][0][i+1]\n",
        "    x_test[0][0][x_test.shape[2]-1]=nuevoValor\n",
        "    return x_test"
      ],
      "execution_count": null,
      "outputs": []
    },
    {
      "cell_type": "code",
      "metadata": {
        "id": "aRDO7gW5PvFK"
      },
      "source": [
        "results=[]\n",
        "for i in range(7):\n",
        "    parcial=model.predict(x_test)\n",
        "    results.append(parcial[0])\n",
        "    print(x_test)\n",
        "    x_test=agregarNuevoValor(x_test,parcial[0])"
      ],
      "execution_count": null,
      "outputs": []
    },
    {
      "cell_type": "code",
      "metadata": {
        "id": "pSOIAUtfP6Fb"
      },
      "source": [
        "adimen = [x for x in results]    \n",
        "print(adimen)\n",
        "inverted = scaler.inverse_transform(adimen)\n",
        "inverted"
      ],
      "execution_count": null,
      "outputs": []
    },
    {
      "cell_type": "code",
      "metadata": {
        "id": "e0fxZiAcQE7P"
      },
      "source": [
        "prediccion1SemanaDiciembre = pd.DataFrame(inverted)\n",
        "prediccion1SemanaDiciembre.columns = ['pronostico']\n",
        "prediccion1SemanaDiciembre.plot()\n",
        "prediccion1SemanaDiciembre.to_csv('pronostico.csv')"
      ],
      "execution_count": null,
      "outputs": []
    },
    {
      "cell_type": "code",
      "metadata": {
        "id": "klFf3u9lQN0B"
      },
      "source": [
        "\n",
        "prediccion1SemanaDiciembre"
      ],
      "execution_count": null,
      "outputs": []
    },
    {
      "cell_type": "code",
      "metadata": {
        "id": "KhBqiQ_1QRbC"
      },
      "source": [
        "i=0\n",
        "for fila in prediccion1SemanaDiciembre.pronostico:\n",
        "    i=i+1\n",
        "    ultimosDias.loc['2018-12-0' + str(i) + ' 00:00:00'] = fila\n",
        "    print(fila)\n",
        "ultimosDias.tail(14)"
      ],
      "execution_count": null,
      "outputs": []
    },
    {
      "cell_type": "code",
      "metadata": {
        "id": "65q-5i10VyhR"
      },
      "source": [
        ""
      ],
      "execution_count": null,
      "outputs": []
    },
    {
      "cell_type": "code",
      "metadata": {
        "id": "AFi1Uc-yVyX1"
      },
      "source": [
        ""
      ],
      "execution_count": null,
      "outputs": []
    },
    {
      "cell_type": "code",
      "metadata": {
        "id": "e4wdxQ6kVyNv"
      },
      "source": [
        ""
      ],
      "execution_count": null,
      "outputs": []
    },
    {
      "cell_type": "code",
      "metadata": {
        "id": "sUswnO29Vx_5"
      },
      "source": [
        ""
      ],
      "execution_count": null,
      "outputs": []
    },
    {
      "cell_type": "code",
      "metadata": {
        "id": "gDli5m0Pd6KO"
      },
      "source": [
        "\n",
        "from pandas import read_csv\n",
        "from matplotlib import pyplot\n",
        "series = read_csv('DATACOPPM.csv', header=0, index_col=0)\n",
        "series.plot()\n",
        "pyplot.show()\n"
      ],
      "execution_count": null,
      "outputs": []
    },
    {
      "cell_type": "code",
      "metadata": {
        "id": "01axgKPtsIGq"
      },
      "source": [
        "from pandas import read_csv\n",
        "from matplotlib import pyplot\n",
        "from statsmodels.graphics.tsaplots import plot_acf\n",
        "series = read_csv('DATACOPPM.csv', header=0, index_col=0)\n",
        "plot_acf(series)\n",
        "pyplot.show()"
      ],
      "execution_count": null,
      "outputs": []
    },
    {
      "cell_type": "code",
      "metadata": {
        "id": "uhsCHzTis2U_"
      },
      "source": [
        "\n",
        "from pandas import read_csv\n",
        "from matplotlib import pyplot\n",
        "from statsmodels.graphics.tsaplots import plot_pacf\n",
        "series = read_csv('DATACOPPM.csv', header=0, index_col=0)\n",
        "plot_pacf(series, lags=50)\n",
        "pyplot.show()"
      ],
      "execution_count": null,
      "outputs": []
    }
  ]
}