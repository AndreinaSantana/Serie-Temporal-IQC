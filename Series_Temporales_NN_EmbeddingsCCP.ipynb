{
  "nbformat": 4,
  "nbformat_minor": 0,
  "metadata": {
    "colab": {
      "name": "Series Temporales NN - EmbeddingsCCP.ipynb",
      "private_outputs": true,
      "provenance": []
    },
    "kernelspec": {
      "name": "python3",
      "display_name": "Python 3"
    },
    "language_info": {
      "name": "python"
    }
  },
  "cells": [
    {
      "cell_type": "code",
      "metadata": {
        "id": "FigCKW4yrwaH"
      },
      "source": [
        "from google.colab import files\n",
        "uploaded = files.upload()"
      ],
      "execution_count": null,
      "outputs": []
    },
    {
      "cell_type": "code",
      "metadata": {
        "id": "ZE2IEnuBsFnC"
      },
      "source": [
        "import pandas as pd\n",
        "import numpy as np\n",
        "import matplotlib.pylab as plt\n",
        "%matplotlib inline\n",
        "plt.rcParams['figure.figsize'] = (16, 9)\n",
        "plt.style.use('fast')\n",
        "\n",
        "from keras.models import Sequential\n",
        "from keras.layers import Dense,Activation,Flatten\n",
        "from sklearn.preprocessing import MinMaxScaler\n",
        "\n",
        "from keras.layers import Input, Embedding, Dense, Flatten, Dropout, concatenate, LSTM\n",
        "from keras.layers import BatchNormalization, SpatialDropout1D\n",
        "from keras.callbacks import Callback\n",
        "from keras.models import Model\n",
        "from keras.optimizers import Adam"
      ],
      "execution_count": null,
      "outputs": []
    },
    {
      "cell_type": "code",
      "metadata": {
        "id": "C6wX8BX0sOVg"
      },
      "source": [
        "df = pd.read_csv('DATACOPPM.csv',  parse_dates=[0], header=None,index_col=0, names=['fecha','unidades'])\n",
        "df.head()"
      ],
      "execution_count": null,
      "outputs": []
    },
    {
      "cell_type": "code",
      "metadata": {
        "id": "2tio_IF0sUKg"
      },
      "source": [
        "df['weekday']=[x.weekday() for x in df.index]\n",
        "df['month']=[x.month for x in df.index]\n",
        "df.head()"
      ],
      "execution_count": null,
      "outputs": []
    },
    {
      "cell_type": "code",
      "metadata": {
        "id": "lSBQmpnPsblg"
      },
      "source": [
        "df.describe()"
      ],
      "execution_count": null,
      "outputs": []
    },
    {
      "cell_type": "code",
      "metadata": {
        "id": "X1b0CCpCseFB"
      },
      "source": [
        "PASOS=7\n",
        "# convert series to supervised learning\n",
        "def series_to_supervised(data, n_in=1, n_out=1, dropnan=True):\n",
        "    n_vars = 1 if type(data) is list else data.shape[1]\n",
        "    df = pd.DataFrame(data)\n",
        "    cols, names = list(), list()\n",
        "    # input sequence (t-n, ... t-1)\n",
        "    for i in range(n_in, 0, -1):\n",
        "        cols.append(df.shift(i))\n",
        "        names += [('var%d(t-%d)' % (j+1, i)) for j in range(n_vars)]\n",
        "    # forecast sequence (t, t+1, ... t+n)\n",
        "    for i in range(0, n_out):\n",
        "        cols.append(df.shift(-i))\n",
        "        if i == 0:\n",
        "            names += [('var%d(t)' % (j+1)) for j in range(n_vars)]\n",
        "        else:\n",
        "            names += [('var%d(t+%d)' % (j+1, i)) for j in range(n_vars)]\n",
        "    # put it all together\n",
        "    agg = pd.concat(cols, axis=1)\n",
        "    agg.columns = names\n",
        "    # drop rows with NaN values\n",
        "    if dropnan:\n",
        "        agg.dropna(inplace=True)\n",
        "    return agg"
      ],
      "execution_count": null,
      "outputs": []
    },
    {
      "cell_type": "code",
      "metadata": {
        "id": "CoUrKO5Isqio"
      },
      "source": [
        "# load dataset\n",
        "values = df['unidades'].values\n",
        "\n",
        "# ensure all data is float\n",
        "values = values.astype('float32')\n",
        "# normalize features\n",
        "scaler = MinMaxScaler(feature_range=(-1, 1))\n",
        "\n",
        "values=values.reshape(-1, 1) # esto lo hacemos porque tenemos 1 sola dimension\n",
        "\n",
        "scaled = scaler.fit_transform(values)\n",
        "\n",
        "reframed = series_to_supervised(scaled, PASOS, 1)\n",
        "reframed.reset_index(inplace=True, drop=True)\n",
        "\n",
        "contador=0\n",
        "reframed['weekday']=df['weekday']\n",
        "reframed['month']=df['month']\n",
        "\n",
        "for i in range(reframed.index[0],reframed.index[-1]):\n",
        "    reframed['weekday'].loc[contador]=df['weekday'][i+8]\n",
        "    reframed['month'].loc[contador]=df['month'][i+8]\n",
        "    contador=contador+1\n",
        "reframed.head()"
      ],
      "execution_count": null,
      "outputs": []
    },
    {
      "cell_type": "code",
      "metadata": {
        "id": "dTW7qVgEs2Bp"
      },
      "source": [
        "reordenado=reframed[ ['weekday','month','var1(t-7)','var1(t-6)','var1(t-5)','var1(t-4)','var1(t-3)','var1(t-2)','var1(t-1)','var1(t)'] ]\n",
        "reordenado.dropna(inplace=True)\n",
        "reordenado"
      ],
      "execution_count": null,
      "outputs": []
    },
    {
      "cell_type": "code",
      "metadata": {
        "id": "B8pN7Z-AtEXo"
      },
      "source": [
        "training_data = reordenado.drop('var1(t)',axis=1)#.values\n",
        "target_data=reordenado['var1(t)']\n",
        "#training_data.head()\n",
        "valid_data = training_data[145 -30:145 ]\n",
        "valid_target=target_data[145-30:145 ]\n",
        "\n",
        "training_data = training_data[0:145 ]\n",
        "target_data=target_data[0:145 ]\n",
        "print(training_data.shape,target_data.shape,valid_data.shape,valid_target.shape)\n",
        "#training_data.head()"
      ],
      "execution_count": null,
      "outputs": []
    },
    {
      "cell_type": "code",
      "metadata": {
        "id": "YsXrn1d5tbsw"
      },
      "source": [
        "def crear_modeloEmbeddings():\n",
        "    emb_dias = 2 #tamanio profundidad de embeddings\n",
        "    emb_meses = 4\n",
        "\n",
        "    in_dias = Input(shape=[1], name = 'dias')\n",
        "    emb_dias = Embedding(7+1, emb_dias)(in_dias)\n",
        "    in_meses = Input(shape=[1], name = 'meses')\n",
        "    emb_meses = Embedding(12+1, emb_meses)(in_meses)\n",
        "\n",
        "    in_cli = Input(shape=[PASOS], name = 'cli')\n",
        "\n",
        "    fe = concatenate([(emb_dias), (emb_meses)])\n",
        "\n",
        "    x = Flatten()(fe)\n",
        "    x = Dense(PASOS,activation='tanh')(x)\n",
        "    outp = Dense(1,activation='tanh')(x)\n",
        "    model = Model(inputs=[in_dias,in_meses,in_cli], outputs=outp)\n",
        "\n",
        "    model.compile(loss='mean_absolute_error', \n",
        "                  optimizer='adam',\n",
        "                  metrics=['MSE'])\n",
        "\n",
        "    model.summary()\n",
        "    return model"
      ],
      "execution_count": null,
      "outputs": []
    },
    {
      "cell_type": "code",
      "metadata": {
        "id": "wUDn-sVttdUY"
      },
      "source": [
        "EPOCHS=200\n",
        "\n",
        "model = crear_modeloEmbeddings()\n",
        "\n",
        "continuas=training_data[['var1(t-7)','var1(t-6)','var1(t-5)','var1(t-4)','var1(t-3)','var1(t-2)','var1(t-1)']]\n",
        "valid_continuas=valid_data[['var1(t-7)','var1(t-6)','var1(t-5)','var1(t-4)','var1(t-3)','var1(t-2)','var1(t-1)']]\n",
        "\n",
        "history=model.fit([training_data['weekday'],training_data['month'],continuas], target_data, epochs=EPOCHS\n",
        "                 ,validation_data=([valid_data['weekday'],valid_data['month'],valid_continuas],valid_target))"
      ],
      "execution_count": null,
      "outputs": []
    },
    {
      "cell_type": "code",
      "metadata": {
        "id": "vL0s7xnzt5qu"
      },
      "source": [
        "results=model.predict([valid_data['weekday'],valid_data['month'],valid_continuas])\n",
        "print( len(results) )\n",
        "plt.scatter(range(len(valid_target)),valid_target,c='g')\n",
        "plt.scatter(range(len(results)),results,c='r')\n",
        "plt.title('validate')\n",
        "plt.show()"
      ],
      "execution_count": null,
      "outputs": []
    },
    {
      "cell_type": "code",
      "metadata": {
        "id": "iaDGp5pyuGtP"
      },
      "source": [
        "plt.plot(history.history['loss'])\n",
        "plt.title('loss')\n",
        "plt.plot(history.history['val_loss'])\n",
        "plt.title('validate loss')\n",
        "plt.show()"
      ],
      "execution_count": null,
      "outputs": []
    },
    {
      "cell_type": "code",
      "metadata": {
        "id": "cJilXpc5uOQW"
      },
      "source": [
        "plt.title('Accuracy')\n",
        "plt.plot(history.history['MSE'])\n",
        "plt.show()"
      ],
      "execution_count": null,
      "outputs": []
    },
    {
      "cell_type": "code",
      "metadata": {
        "id": "c3mx7q2Tugft"
      },
      "source": [
        "compara = pd.DataFrame(np.array([valid_target, [x[0] for x in results]])).transpose()\n",
        "compara.columns = ['real', 'prediccion']\n",
        "\n",
        "inverted = scaler.inverse_transform(compara.values)\n",
        "\n",
        "compara2 = pd.DataFrame(inverted)\n",
        "compara2.columns = ['real', 'prediccion']\n",
        "compara2['diferencia'] = compara2['real'] - compara2['prediccion']\n",
        "compara2.head(12)"
      ],
      "execution_count": null,
      "outputs": []
    },
    {
      "cell_type": "code",
      "metadata": {
        "id": "1Cir9bWMum99"
      },
      "source": [
        "compara2.describe()"
      ],
      "execution_count": null,
      "outputs": []
    },
    {
      "cell_type": "code",
      "metadata": {
        "id": "dA_9TqvrusW_"
      },
      "source": [
        "compara2['real'].plot()\n",
        "compara2['prediccion'].plot()"
      ],
      "execution_count": null,
      "outputs": []
    },
    {
      "cell_type": "code",
      "metadata": {
        "id": "11JMoW6KuzfV"
      },
      "source": [
        "ultimosDias = df['2020-11-16':'2020-11-30']\n",
        "ultimosDias"
      ],
      "execution_count": null,
      "outputs": []
    },
    {
      "cell_type": "code",
      "metadata": {
        "id": "b8ullGA9u_n_"
      },
      "source": [
        "# load dataset\n",
        "values = ultimosDias['unidades'].values\n",
        "\n",
        "# ensure all data is float\n",
        "values = values.astype('float32')\n",
        "# normalize features\n",
        "#scaler = MinMaxScaler(feature_range=(-1, 1))\n",
        "\n",
        "values=values.reshape(-1, 1) # esto lo hacemos porque tenemos 1 sola dimension\n",
        "\n",
        "scaled = scaler.fit_transform(values)\n",
        "\n",
        "reframed = series_to_supervised(scaled, PASOS, 1)\n",
        "reframed.reset_index(inplace=True, drop=True)\n",
        "\n",
        "contador=0\n",
        "reframed['weekday']=ultimosDias['weekday']\n",
        "reframed['month']=ultimosDias['month']\n",
        "\n",
        "for i in range(reframed.index[0],reframed.index[-1]):\n",
        "    reframed['weekday'].loc[contador]=ultimosDias['weekday'][i+8]\n",
        "    reframed['month'].loc[contador]=ultimosDias['month'][i+8]\n",
        "    contador=contador+1\n",
        "reframed.head()\n",
        "\n",
        "reordenado=reframed[ ['weekday','month','var1(t-7)','var1(t-6)','var1(t-5)','var1(t-4)','var1(t-3)','var1(t-2)','var1(t-1)'] ]\n",
        "reordenado.dropna(inplace=True)\n",
        "reordenado"
      ],
      "execution_count": null,
      "outputs": []
    },
    {
      "cell_type": "code",
      "metadata": {
        "id": "IQzLpeGbvEOV"
      },
      "source": [
        "values = reordenado.values\n",
        "x_test = values[5:, :]\n",
        "x_test = x_test.reshape((x_test.shape[0], 1, x_test.shape[1]))\n",
        "print(x_test.shape)\n",
        "print(x_test)\n",
        "ultDiaSemana = reordenado.weekday[len(reordenado.index)-1]\n",
        "ultDiaSemana"
      ],
      "execution_count": null,
      "outputs": []
    },
    {
      "cell_type": "code",
      "metadata": {
        "id": "UMW-WyzOvIl3"
      },
      "source": [
        "def agregarNuevoValor(x_test,nuevoValor,ultDiaSemana):\n",
        "    for i in range(x_test.shape[2]-3):\n",
        "        x_test[0][0][i+2] = x_test[0][0][i+3]\n",
        "    ultDiaSemana=ultDiaSemana+1\n",
        "    if ultDiaSemana>6:\n",
        "        ultDiaSemana=0\n",
        "    x_test[0][0][0]=ultDiaSemana\n",
        "    x_test[0][0][1]=12\n",
        "    x_test[0][0][x_test.shape[2]-1]=nuevoValor\n",
        "    return x_test,ultDiaSemana"
      ],
      "execution_count": null,
      "outputs": []
    },
    {
      "cell_type": "code",
      "metadata": {
        "id": "fRAadra1u4pA"
      },
      "source": [
        "results=[]\n",
        "for i in range(7):\n",
        "    dia=np.array([x_test[0][0][0]])\n",
        "    mes=np.array([x_test[0][0][1]])\n",
        "    valores=np.array([x_test[0][0][2:9]])\n",
        "    parcial=model.predict([dia, mes, valores])\n",
        "    results.append(parcial[0])\n",
        "    print('pred',i,x_test)\n",
        "    x_test,ultDiaSemana=agregarNuevoValor(x_test,parcial[0],ultDiaSemana)"
      ],
      "execution_count": null,
      "outputs": []
    },
    {
      "cell_type": "code",
      "metadata": {
        "id": "bYM5ZZJGvPLd"
      },
      "source": [
        "adimen = [x for x in results]    \n",
        "print(adimen)\n",
        "inverted = scaler.inverse_transform(adimen)\n",
        "inverted"
      ],
      "execution_count": null,
      "outputs": []
    },
    {
      "cell_type": "code",
      "metadata": {
        "id": "R6VAtqi7vRwt"
      },
      "source": [
        "prediccion1SemanaDiciembre = pd.DataFrame(inverted)\n",
        "prediccion1SemanaDiciembre.columns = ['pronostico']\n",
        "prediccion1SemanaDiciembre.plot()\n",
        "prediccion1SemanaDiciembre.to_csv('pronostico_embeddings.csv')"
      ],
      "execution_count": null,
      "outputs": []
    },
    {
      "cell_type": "code",
      "metadata": {
        "id": "o5_h40ZZvaD1"
      },
      "source": [
        "prediccion1SemanaDiciembre"
      ],
      "execution_count": null,
      "outputs": []
    }
  ]
}