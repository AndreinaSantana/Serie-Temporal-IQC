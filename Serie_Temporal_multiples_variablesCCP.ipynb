{
  "nbformat": 4,
  "nbformat_minor": 0,
  "metadata": {
    "colab": {
      "name": "Serie Temporal multiples variablesCCP.ipynb",
      "private_outputs": true,
      "provenance": []
    },
    "kernelspec": {
      "name": "python3",
      "display_name": "Python 3"
    },
    "language_info": {
      "name": "python"
    }
  },
  "cells": [
    {
      "cell_type": "code",
      "metadata": {
        "id": "p7NB4-AAdRbS"
      },
      "source": [
        "from google.colab import files\n",
        "uploaded = files.upload()"
      ],
      "execution_count": null,
      "outputs": []
    },
    {
      "cell_type": "code",
      "metadata": {
        "id": "jP9inOHQkI4b"
      },
      "source": [
        "import pandas as pd\n",
        "import numpy as np\n",
        "import matplotlib.pylab as plt\n",
        "%matplotlib inline\n",
        "plt.rcParams['figure.figsize'] = (16, 9)\n",
        "plt.style.use('fast')\n",
        "\n",
        "from keras.models import Sequential\n",
        "from keras.layers import Dense,Activation,Flatten\n",
        "from sklearn.preprocessing import MinMaxScaler"
      ],
      "execution_count": null,
      "outputs": []
    },
    {
      "cell_type": "code",
      "metadata": {
        "id": "9g1lByY9kL1J"
      },
      "source": [
        "df = pd.read_csv('DATACOPPM.csv',  parse_dates=[0], header=None,index_col=0, names=['fecha','unidades'])\n",
        "df.head()"
      ],
      "execution_count": null,
      "outputs": []
    },
    {
      "cell_type": "code",
      "metadata": {
        "id": "S_3L-tF0kWpz"
      },
      "source": [
        "df['weekday']=[x.weekday() for x in df.index]\n",
        "df['month']=[x.month for x in df.index]\n",
        "df.head()"
      ],
      "execution_count": null,
      "outputs": []
    },
    {
      "cell_type": "code",
      "metadata": {
        "id": "kGjqp1t1krx5"
      },
      "source": [
        "df.describe()"
      ],
      "execution_count": null,
      "outputs": []
    },
    {
      "cell_type": "code",
      "metadata": {
        "id": "ZklGBRjYktAz"
      },
      "source": [
        "# convert series to supervised learning\n",
        "def series_to_supervised(data, n_in=1, n_out=1, dropnan=True):\n",
        "    n_vars = 1 if type(data) is list else data.shape[1]\n",
        "    df = pd.DataFrame(data)\n",
        "    cols, names = list(), list()\n",
        "    # input sequence (t-n, ... t-1)\n",
        "    for i in range(n_in, 0, -1):\n",
        "        cols.append(df.shift(i))\n",
        "        names += [('var%d(t-%d)' % (j+1, i)) for j in range(n_vars)]\n",
        "    # forecast sequence (t, t+1, ... t+n)\n",
        "    for i in range(0, n_out):\n",
        "        cols.append(df.shift(-i))\n",
        "        if i == 0:\n",
        "            names += [('var%d(t)' % (j+1)) for j in range(n_vars)]\n",
        "        else:\n",
        "            names += [('var%d(t+%d)' % (j+1, i)) for j in range(n_vars)]\n",
        "    # put it all together\n",
        "    agg = pd.concat(cols, axis=1)\n",
        "    agg.columns = names\n",
        "    # drop rows with NaN values\n",
        "    if dropnan:\n",
        "        agg.dropna(inplace=True)\n",
        "    return agg\n",
        " "
      ],
      "execution_count": null,
      "outputs": []
    },
    {
      "cell_type": "code",
      "metadata": {
        "id": "oBuuJLFtkzSj"
      },
      "source": [
        "PASOS=7\n",
        "\n",
        "# load dataset\n",
        "values = df['unidades'].values\n",
        "\n",
        "# ensure all data is float\n",
        "values = values.astype('float32')\n",
        "# normalize features\n",
        "scaler = MinMaxScaler(feature_range=(-1, 1))\n",
        "values=values.reshape(-1, 1) # esto lo hacemos porque tenemos 1 sola dimension\n",
        "scaled = scaler.fit_transform(values)\n",
        "\n",
        "df['scaled'] = scaled\n",
        "scaledMerge=df.drop('unidades',axis=1)\n",
        "#print(scaledMerge.values)\n",
        "\n",
        "# frame as supervised learning\n",
        "reframed = series_to_supervised(scaledMerge, PASOS, 1)\n",
        "reframed.head()"
      ],
      "execution_count": null,
      "outputs": []
    },
    {
      "cell_type": "code",
      "metadata": {
        "id": "f_xLXKrBlTgY"
      },
      "source": [
        "newReframed=reframed.drop(['var1(t)','var2(t)'],axis=1)\n",
        "print(newReframed.shape)\n",
        "newReframed.head()"
      ],
      "execution_count": null,
      "outputs": []
    },
    {
      "cell_type": "code",
      "metadata": {
        "id": "MEGak3uRlwLo"
      },
      "source": [
        "# split into train and test sets\n",
        "values = newReframed.values\n",
        "n_train_days = 153-(30+PASOS)\n",
        "train = values[:n_train_days, :]\n",
        "test = values[n_train_days:, :]\n",
        "# split into input and outputs\n",
        "x_train, y_train = train[:, :-1], train[:, -1]\n",
        "x_val, y_val = test[:, :-1], test[:, -1]\n",
        "# reshape input to be 3D [samples, timesteps, features]\n",
        "x_train = x_train.reshape((x_train.shape[0], 1, x_train.shape[1]))\n",
        "x_val = x_val.reshape((x_val.shape[0], 1, x_val.shape[1]))\n",
        "print(x_train.shape, y_train.shape, x_val.shape, y_val.shape)"
      ],
      "execution_count": null,
      "outputs": []
    },
    {
      "cell_type": "code",
      "metadata": {
        "id": "lwdqfN3PmqIc"
      },
      "source": [
        "def crear_modeloFF():\n",
        "    model = Sequential() \n",
        "    model.add(Dense(PASOS, input_shape=(1,PASOS*3),activation='tanh'))\n",
        "    model.add(Flatten())\n",
        "    model.add(Dense(1, activation='tanh'))\n",
        "    model.compile(loss='mean_absolute_error',optimizer='Adam',metrics=[\"mse\"])\n",
        "    model.summary()\n",
        "    return model"
      ],
      "execution_count": null,
      "outputs": []
    },
    {
      "cell_type": "code",
      "metadata": {
        "id": "wxVfcrQ0mxat"
      },
      "source": [
        "EPOCHS=200\n",
        "\n",
        "model = crear_modeloFF()\n",
        "\n",
        "history=model.fit(x_train,y_train,epochs=EPOCHS,validation_data=(x_val,y_val),batch_size=PASOS)"
      ],
      "execution_count": null,
      "outputs": []
    },
    {
      "cell_type": "code",
      "metadata": {
        "id": "5sRD8Y9gndIB"
      },
      "source": [
        "results=model.predict(x_val)\n",
        "print( len(results) )\n",
        "plt.scatter(range(len(y_val)),y_val,c='g')\n",
        "plt.scatter(range(len(results)),results,c='r')\n",
        "plt.title('validate')\n",
        "plt.show()"
      ],
      "execution_count": null,
      "outputs": []
    },
    {
      "cell_type": "code",
      "metadata": {
        "id": "_yUbKD5pnhdm"
      },
      "source": [
        "plt.ylim(0.175, 0.55)\n",
        "plt.plot(history.history['loss'])\n",
        "plt.title('loss')\n",
        "plt.plot(history.history['val_loss'])\n",
        "plt.title('validate loss')\n",
        "plt.show()"
      ],
      "execution_count": null,
      "outputs": []
    },
    {
      "cell_type": "code",
      "metadata": {
        "id": "-AZU9Wf4n6_T"
      },
      "source": [
        "plt.ylim(0.05, 0.2)\n",
        "plt.title('Accuracy')\n",
        "plt.plot(history.history['mse'])\n",
        "plt.show()"
      ],
      "execution_count": null,
      "outputs": []
    },
    {
      "cell_type": "code",
      "metadata": {
        "id": "TqEIzJ6VoSRj"
      },
      "source": [
        "compara = pd.DataFrame(np.array([y_val, [x[0] for x in results]])).transpose()\n",
        "compara.columns = ['real', 'prediccion']\n",
        "\n",
        "inverted = scaler.inverse_transform(compara.values)\n",
        "\n",
        "compara2 = pd.DataFrame(inverted)\n",
        "compara2.columns = ['real', 'prediccion']\n",
        "compara2['diferencia'] = compara2['real'] - compara2['prediccion']\n",
        "compara2.head(10)"
      ],
      "execution_count": null,
      "outputs": []
    },
    {
      "cell_type": "code",
      "metadata": {
        "id": "nzwcubBFoVnO"
      },
      "source": [
        "compara2.describe()"
      ],
      "execution_count": null,
      "outputs": []
    },
    {
      "cell_type": "code",
      "metadata": {
        "id": "HOeF0mQxobla"
      },
      "source": [
        "compara2['real'].plot()\n",
        "compara2['prediccion'].plot()"
      ],
      "execution_count": null,
      "outputs": []
    },
    {
      "cell_type": "code",
      "metadata": {
        "id": "XJ8dnRv2olMi"
      },
      "source": [
        "ultimosDias = df['2020-11-16':'2020-11-30']\n",
        "ultimosDias"
      ],
      "execution_count": null,
      "outputs": []
    },
    {
      "cell_type": "code",
      "metadata": {
        "id": "-oi_g1ubo25j"
      },
      "source": [
        "scaledMerge=ultimosDias.drop('unidades',axis=1)\n",
        "print(scaledMerge.values)\n",
        "\n",
        "# frame as supervised learning\n",
        "reframed = series_to_supervised(scaledMerge, PASOS, 1)\n",
        "newReframed=reframed.drop(['var1(t)','var2(t)','var3(t)'],axis=1)\n",
        "newReframed.head(7)"
      ],
      "execution_count": null,
      "outputs": []
    },
    {
      "cell_type": "code",
      "metadata": {
        "id": "qnniCys3o-Qi"
      },
      "source": [
        "values = newReframed.values\n",
        "x_test = values[6:, :]\n",
        "x_test = x_test.reshape((x_test.shape[0], 1, x_test.shape[1]))\n",
        "print(x_test.shape)\n",
        "print(x_test)\n",
        "ultDiaSemana = newReframed.index[len(newReframed.index)-1].weekday()"
      ],
      "execution_count": null,
      "outputs": []
    },
    {
      "cell_type": "code",
      "metadata": {
        "id": "LIDxXoXPpCeg"
      },
      "source": [
        "def agregarNuevoValor(x_test,nuevoValor,ultDiaSemana):\n",
        "    for i in range(x_test.shape[2]-3):\n",
        "        x_test[0][0][i] = x_test[0][0][i+3]\n",
        "    ultDiaSemana=ultDiaSemana+1\n",
        "    if ultDiaSemana>6:\n",
        "        ultDiaSemana=0\n",
        "    x_test[0][0][x_test.shape[2]-3]=ultDiaSemana\n",
        "    x_test[0][0][x_test.shape[2]-2]=12\n",
        "    x_test[0][0][x_test.shape[2]-1]=nuevoValor\n",
        "    return x_test,ultDiaSemana"
      ],
      "execution_count": null,
      "outputs": []
    },
    {
      "cell_type": "code",
      "metadata": {
        "id": "_d-gXtVApM0Y"
      },
      "source": [
        "results=[]\n",
        "for i in range(7):\n",
        "    parcial=model.predict(x_test)\n",
        "    results.append(parcial[0])\n",
        "    print('pred',i,x_test)\n",
        "    x_test,ultDiaSemana=agregarNuevoValor(x_test,parcial[0],ultDiaSemana)"
      ],
      "execution_count": null,
      "outputs": []
    },
    {
      "cell_type": "code",
      "metadata": {
        "id": "ODIUO_iqpPDQ"
      },
      "source": [
        "adimen = [x for x in results]    \n",
        "print(adimen)\n",
        "inverted = scaler.inverse_transform(adimen)\n",
        "inverted"
      ],
      "execution_count": null,
      "outputs": []
    },
    {
      "cell_type": "code",
      "metadata": {
        "id": "Jp14r-p5pRzZ"
      },
      "source": [
        "prediccion1SemanaDiciembre = pd.DataFrame(inverted)\n",
        "prediccion1SemanaDiciembre.columns = ['pronostico']\n",
        "prediccion1SemanaDiciembre.plot()\n",
        "prediccion1SemanaDiciembre.to_csv('pronostico_multivariate.csv')"
      ],
      "execution_count": null,
      "outputs": []
    },
    {
      "cell_type": "code",
      "metadata": {
        "id": "o-vhgNrypYka"
      },
      "source": [
        "prediccion1SemanaDiciembre"
      ],
      "execution_count": null,
      "outputs": []
    },
    {
      "cell_type": "code",
      "metadata": {
        "id": "0ncD305ApbZi"
      },
      "source": [
        "i=0\n",
        "for fila in prediccion1SemanaDiciembre.pronostico:\n",
        "    i=i+1\n",
        "    ultimosDias.loc['2018-12-0' + str(i) + ' 00:00:00'] = fila\n",
        "    print(fila)\n",
        "ultimosDias.tail(14)"
      ],
      "execution_count": null,
      "outputs": []
    },
    {
      "cell_type": "code",
      "metadata": {
        "id": "6VmrVApVqhfm"
      },
      "source": [
        "df = pd.read_csv('pronostico_multivariate.csv',  parse_dates=[0], header=None,index_col=0, squeeze=True,names=['fecha','unidades'])\n",
        "df.head()"
      ],
      "execution_count": null,
      "outputs": []
    },
    {
      "cell_type": "code",
      "metadata": {
        "id": "UBK6LtVaqsav"
      },
      "source": [
        "df"
      ],
      "execution_count": null,
      "outputs": []
    }
  ]
}